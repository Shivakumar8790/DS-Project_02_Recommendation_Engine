{
 "cells": [
  {
   "cell_type": "code",
   "execution_count": null,
   "metadata": {
    "id": "5QORCCVMsO6p"
   },
   "outputs": [],
   "source": [
    "import pandas as pd # data processing\n",
    "import numpy as np # linear algebra\n",
    "import matplotlib.pyplot as plt\n",
    "import seaborn as sns\n",
    "import warnings\n",
    "warnings.filterwarnings('ignore')\n",
    "import pickle"
   ]
  },
  {
   "cell_type": "markdown",
   "metadata": {
    "id": "yZGr-QjQHV7y"
   },
   "source": [
    "Business Objective:\n",
    "\n",
    "Generate the features from the dataset and use them to recommend the\n",
    "\n",
    "books accordingly to the users."
   ]
  },
  {
   "cell_type": "code",
   "execution_count": null,
   "metadata": {
    "id": "7pLvA5oyuDcR"
   },
   "outputs": [],
   "source": [
    "#bk = pd.read_csv(\"/content/Books.csv\", sep=\",\",error_bad_lines=False)\n",
    "#rt = pd.read_csv(\"/content/Ratings.csv\")\n",
    "#user = pd.read_csv(\"/content/Users.csv\")\n",
    "\n",
    "user = pd.read_csv(\"D:/Shiva Data Science/Project-02/Users.csv\")\n",
    "bk = pd.read_csv(\"D:/Shiva Data Science/Project-02/Books.csv\")\n",
    "rt = pd.read_csv(\"D:/Shiva Data Science/Project-02/Ratings.csv\")"
   ]
  },
  {
   "cell_type": "code",
   "execution_count": null,
   "metadata": {
    "colab": {
     "base_uri": "https://localhost:8080/",
     "height": 434
    },
    "id": "YwU4nFlGuDmT",
    "outputId": "1481c0e1-a96c-4b8f-938f-04544196d3d9"
   },
   "outputs": [],
   "source": [
    "bk.head()"
   ]
  },
  {
   "cell_type": "code",
   "execution_count": null,
   "metadata": {
    "colab": {
     "base_uri": "https://localhost:8080/",
     "height": 206
    },
    "id": "KwvgLfc4uDtn",
    "outputId": "adfc8b1d-5df2-4bd8-b6ae-9ab57f63bcb2"
   },
   "outputs": [],
   "source": [
    "rt.head()"
   ]
  },
  {
   "cell_type": "code",
   "execution_count": null,
   "metadata": {
    "colab": {
     "base_uri": "https://localhost:8080/",
     "height": 206
    },
    "id": "sgI1a1q7uD01",
    "outputId": "73b63da9-ab4e-48cf-b208-825166261a21"
   },
   "outputs": [],
   "source": [
    "user.head()"
   ]
  },
  {
   "cell_type": "markdown",
   "metadata": {
    "id": "ikYQWOGAvKDD"
   },
   "source": [
    "Dimension of dataset"
   ]
  },
  {
   "cell_type": "code",
   "execution_count": null,
   "metadata": {
    "colab": {
     "base_uri": "https://localhost:8080/"
    },
    "id": "KIJ21qabuD8Q",
    "outputId": "937ec591-ddd7-43ba-821e-4a28f9817151"
   },
   "outputs": [],
   "source": [
    "bk.shape"
   ]
  },
  {
   "cell_type": "code",
   "execution_count": null,
   "metadata": {
    "colab": {
     "base_uri": "https://localhost:8080/"
    },
    "id": "2V-NInSiuEHk",
    "outputId": "6111dd40-87f7-4ac4-ed91-d0461c252e96"
   },
   "outputs": [],
   "source": [
    "rt.shape"
   ]
  },
  {
   "cell_type": "code",
   "execution_count": null,
   "metadata": {
    "colab": {
     "base_uri": "https://localhost:8080/"
    },
    "id": "7d1Ey0q1uEMl",
    "outputId": "68dbcbdf-3cfd-4141-8bb1-dff9e520077b"
   },
   "outputs": [],
   "source": [
    "user.shape"
   ]
  },
  {
   "cell_type": "markdown",
   "metadata": {
    "id": "OZzw8y3yD6qC"
   },
   "source": [
    "EDA"
   ]
  },
  {
   "cell_type": "code",
   "execution_count": null,
   "metadata": {
    "colab": {
     "base_uri": "https://localhost:8080/"
    },
    "id": "A8djLJqhwfKY",
    "outputId": "02a83617-b202-4abe-cfe2-6ec4e83e1e15"
   },
   "outputs": [],
   "source": [
    "bk.info()"
   ]
  },
  {
   "cell_type": "code",
   "execution_count": null,
   "metadata": {
    "colab": {
     "base_uri": "https://localhost:8080/"
    },
    "id": "TZ3guWy0wjp8",
    "outputId": "0e6c94ef-7165-4ec0-84d9-066691ceaf9f"
   },
   "outputs": [],
   "source": [
    "rt.info()"
   ]
  },
  {
   "cell_type": "code",
   "execution_count": null,
   "metadata": {
    "colab": {
     "base_uri": "https://localhost:8080/"
    },
    "id": "HtL-5_ICwnF0",
    "outputId": "09832d3a-8e5c-45e2-c29c-31207728490f"
   },
   "outputs": [],
   "source": [
    "user.info()"
   ]
  },
  {
   "cell_type": "code",
   "execution_count": null,
   "metadata": {
    "colab": {
     "base_uri": "https://localhost:8080/",
     "height": 300
    },
    "id": "Zhr8j6j74YsF",
    "outputId": "7e5e1821-a227-4b59-bf64-5a5b0f0fd5ab"
   },
   "outputs": [],
   "source": [
    "bk.describe()"
   ]
  },
  {
   "cell_type": "code",
   "execution_count": null,
   "metadata": {
    "colab": {
     "base_uri": "https://localhost:8080/",
     "height": 300
    },
    "id": "3GGzjB9h4c2N",
    "outputId": "01588e3b-8bd4-44c4-a7b2-57e370e06ed9"
   },
   "outputs": [],
   "source": [
    "rt.describe()"
   ]
  },
  {
   "cell_type": "code",
   "execution_count": null,
   "metadata": {
    "colab": {
     "base_uri": "https://localhost:8080/",
     "height": 300
    },
    "id": "zeTq6wRN4hu0",
    "outputId": "1080898f-8db5-4e64-d67e-73f39de8349e"
   },
   "outputs": [],
   "source": [
    "user.describe()"
   ]
  },
  {
   "cell_type": "code",
   "execution_count": null,
   "metadata": {
    "colab": {
     "base_uri": "https://localhost:8080/"
    },
    "id": "aeFzy-K3vPx8",
    "outputId": "5b8f2ea7-bf06-4532-cd1b-bdbe48913de1"
   },
   "outputs": [],
   "source": [
    "bk.isnull().sum()"
   ]
  },
  {
   "cell_type": "code",
   "execution_count": null,
   "metadata": {
    "colab": {
     "base_uri": "https://localhost:8080/"
    },
    "id": "2nRiKAQivP6U",
    "outputId": "d6dd2b92-6f55-4ff0-8027-6e4833ed4fbc"
   },
   "outputs": [],
   "source": [
    "rt.isnull().sum()"
   ]
  },
  {
   "cell_type": "code",
   "execution_count": null,
   "metadata": {
    "colab": {
     "base_uri": "https://localhost:8080/"
    },
    "id": "n9mEP6hkvP-S",
    "outputId": "4a39dd35-4cb1-4430-e9eb-ae4a5eaf03be"
   },
   "outputs": [],
   "source": [
    "user.isnull().sum()"
   ]
  },
  {
   "cell_type": "markdown",
   "metadata": {
    "id": "NZsuNL4l2K0Y"
   },
   "source": [
    "From user dataset age column is having maximum missing values"
   ]
  },
  {
   "cell_type": "code",
   "execution_count": null,
   "metadata": {
    "colab": {
     "base_uri": "https://localhost:8080/"
    },
    "id": "gvqS1--WaqMl",
    "outputId": "a9b046dd-a7ff-458e-af9b-da2bea014531"
   },
   "outputs": [],
   "source": [
    "bk.duplicated().sum()"
   ]
  },
  {
   "cell_type": "code",
   "execution_count": null,
   "metadata": {
    "colab": {
     "base_uri": "https://localhost:8080/"
    },
    "id": "x_N9RAt7atw1",
    "outputId": "a91198cb-9c31-4c74-bbf5-9b8c6f3fcb6f"
   },
   "outputs": [],
   "source": [
    "rt.duplicated().sum()"
   ]
  },
  {
   "cell_type": "code",
   "execution_count": null,
   "metadata": {
    "colab": {
     "base_uri": "https://localhost:8080/"
    },
    "id": "y1U7zxJPawD2",
    "outputId": "c542866b-b3ce-410c-932a-3f9c92f18318"
   },
   "outputs": [],
   "source": [
    "user.duplicated().sum()"
   ]
  },
  {
   "cell_type": "markdown",
   "metadata": {
    "id": "wFA6yNZYa2od"
   },
   "source": [
    "No duplicate values in three datasets"
   ]
  },
  {
   "cell_type": "markdown",
   "metadata": {
    "id": "KBuZgmyvpiMw"
   },
   "source": [
    "# Data cleaning"
   ]
  },
  {
   "cell_type": "markdown",
   "metadata": {
    "id": "qj2mUqTkwcKQ"
   },
   "source": [
    "Book dataset"
   ]
  },
  {
   "cell_type": "code",
   "execution_count": null,
   "metadata": {
    "colab": {
     "base_uri": "https://localhost:8080/",
     "height": 53
    },
    "id": "LwpjFA1VF7xn",
    "outputId": "a1f1abe1-12dc-404e-b82f-4f877f9bb584"
   },
   "outputs": [],
   "source": [
    "# nan values in particular column\n",
    "bk.loc[(bk['Book-Author'].isnull()),: ]"
   ]
  },
  {
   "cell_type": "markdown",
   "metadata": {
    "id": "P5UOAnGsGShZ"
   },
   "source": [
    "here Book-Author is with nan/missing value"
   ]
  },
  {
   "cell_type": "code",
   "execution_count": null,
   "metadata": {
    "colab": {
     "base_uri": "https://localhost:8080/",
     "height": 53
    },
    "id": "1JB88BvGF7-w",
    "outputId": "617721e8-cfd7-4635-e334-bd0fd87a7b73"
   },
   "outputs": [],
   "source": [
    "# nan values from Publisher column\n",
    "bk.loc[(bk['Publisher'].isnull()),: ]"
   ]
  },
  {
   "cell_type": "markdown",
   "metadata": {
    "id": "hk00cC99Glxo"
   },
   "source": [
    "Here Publisher is with nan/missing values"
   ]
  },
  {
   "cell_type": "code",
   "execution_count": null,
   "metadata": {
    "colab": {
     "base_uri": "https://localhost:8080/"
    },
    "id": "hP_O2C2QF8DG",
    "outputId": "65d8170d-3df2-4c05-e1ed-38a1142697e3"
   },
   "outputs": [],
   "source": [
    "# getting unique value from 'year_of_publication' feature\n",
    "bk['Year-Of-Publication'].unique()"
   ]
  },
  {
   "cell_type": "code",
   "execution_count": null,
   "metadata": {
    "colab": {
     "base_uri": "https://localhost:8080/",
     "height": 894
    },
    "id": "_E6jXpQYF8IH",
    "outputId": "7853f2e7-59ff-4b88-d2d6-71b4e76fa026"
   },
   "outputs": [],
   "source": [
    "# Extracting and fixing mismatch in feature 'year_of_publication', 'publisher', 'book_author', 'book_title'\n",
    "bk[bk['Year-Of-Publication'] == 0]\n",
    "#bk[bk['Year-Of-Publication'] == 'nan']"
   ]
  },
  {
   "cell_type": "markdown",
   "metadata": {
    "id": "37HO_pckUyDJ"
   },
   "source": [
    "4618 rows with zero values as year of publication"
   ]
  },
  {
   "cell_type": "markdown",
   "metadata": {
    "id": "vLH7EW1cajX2"
   },
   "source": [
    "\n",
    " Extracting and fixing mismatch in feature year-of-publication column"
   ]
  },
  {
   "cell_type": "code",
   "execution_count": null,
   "metadata": {
    "id": "kMCu9LhnTAbB"
   },
   "outputs": [],
   "source": [
    "# Replace 'Year-Of-Publication' values equal to 0 with a new value (e.g., 2023)\n",
    "new_value = 2023\n",
    "bk.loc[bk['Year-Of-Publication'] == 0, 'Year-Of-Publication'] = new_value\n"
   ]
  },
  {
   "cell_type": "code",
   "execution_count": null,
   "metadata": {
    "colab": {
     "base_uri": "https://localhost:8080/"
    },
    "id": "9JQ6HPQeTAkv",
    "outputId": "4e9dbb6e-decd-408a-be9b-5b2fc87ae076"
   },
   "outputs": [],
   "source": [
    "print(bk['Year-Of-Publication']==0)  # Here fixed year-of-publication with new value"
   ]
  },
  {
   "cell_type": "code",
   "execution_count": null,
   "metadata": {
    "colab": {
     "base_uri": "https://localhost:8080/"
    },
    "id": "w2k7TjfzZ8d9",
    "outputId": "402921b0-f428-445b-a08c-830a5c46a917"
   },
   "outputs": [],
   "source": [
    "# Check for NaN values in the 'Year-Of-Publication' column\n",
    "is_nan = pd.isna(bk['Year-Of-Publication'])\n",
    "print(is_nan)"
   ]
  },
  {
   "cell_type": "markdown",
   "metadata": {
    "id": "me3Cyi3DbEn2"
   },
   "source": [
    "Extracting and fixing mismatch in feature\n",
    "\n",
    "There has to make some correction in three rows as you can see in above output."
   ]
  },
  {
   "cell_type": "code",
   "execution_count": null,
   "metadata": {
    "colab": {
     "base_uri": "https://localhost:8080/"
    },
    "id": "HAjFanhDjJ1B",
    "outputId": "45859c81-7de4-4b04-d38c-9df31c6ffa63"
   },
   "outputs": [],
   "source": [
    "bk.index"
   ]
  },
  {
   "cell_type": "code",
   "execution_count": null,
   "metadata": {
    "id": "MvZbrHf4z0BT"
   },
   "outputs": [],
   "source": [
    "#bk.loc[221678]"
   ]
  },
  {
   "cell_type": "code",
   "execution_count": null,
   "metadata": {
    "id": "zPUYRnfEz0F6"
   },
   "outputs": [],
   "source": [
    "#bk.loc[209538]"
   ]
  },
  {
   "cell_type": "code",
   "execution_count": null,
   "metadata": {
    "id": "6JuOm8OLz0NI"
   },
   "outputs": [],
   "source": [
    "#bk.loc[220731]"
   ]
  },
  {
   "cell_type": "markdown",
   "metadata": {
    "id": "3WhwvEdsE5WC"
   },
   "source": [
    "Let's fix it and make it in correct format as per our dataset."
   ]
  },
  {
   "cell_type": "code",
   "execution_count": null,
   "metadata": {
    "id": "Os88BD0uE56e"
   },
   "outputs": [],
   "source": [
    "# function to fix mismatch data in feature 'book_title', 'book_author', ' year_of_publication', 'publisher'\n",
    "def replace_df_value(df, idx, col_name, val):\n",
    "    df.loc[idx, col_name] = val\n",
    "    return df"
   ]
  },
  {
   "cell_type": "code",
   "execution_count": null,
   "metadata": {
    "colab": {
     "base_uri": "https://localhost:8080/",
     "height": 998
    },
    "id": "yxvXkeUCFDEG",
    "outputId": "37a997c9-3746-4f7c-b009-03ea2b2b6ace"
   },
   "outputs": [],
   "source": [
    "replace_df_value(bk, 209538, 'Book-Title', 'DK Readers: Creating the X-Men, How It All Began (Level 4: Proficient Readers)')\n",
    "replace_df_value(bk, 209538, 'Book-Author', 'Michael Teitelbaum')\n",
    "replace_df_value(bk, 209538, 'Year-Of-Publication', 2000)\n",
    "replace_df_value(bk, 209538, 'Publisher', 'DK Publishing Inc')\n",
    "\n",
    "replace_df_value(bk, 221678, 'Book-Title', 'DK Readers: Creating the X-Men, How Comic Books Come to Life (Level 4: Proficient Readers)')\n",
    "replace_df_value(bk, 221678, 'Book-Author', 'James Buckley')\n",
    "replace_df_value(bk, 221678, 'Year-Of-Publication', 2000)\n",
    "replace_df_value(bk, 221678, 'Publisher', 'DK Publishing Inc')\n",
    "\n",
    "replace_df_value(bk, 220731,'Book-Title', \"Peuple du ciel, suivi de 'Les Bergers\")\n",
    "replace_df_value(bk, 220731, 'Book-Author', 'Jean-Marie Gustave Le ClÃ?Â©zio')\n",
    "replace_df_value(bk, 220731, 'Year-Of-Publication', 2003)\n",
    "replace_df_value(bk, 220731, 'Publisher', 'Gallimard')"
   ]
  },
  {
   "cell_type": "code",
   "execution_count": null,
   "metadata": {
    "colab": {
     "base_uri": "https://localhost:8080/"
    },
    "id": "GSqO9AJgeVof",
    "outputId": "500546d3-7a40-48e3-a214-312b1e998943"
   },
   "outputs": [],
   "source": [
    "bk.loc[221678]"
   ]
  },
  {
   "cell_type": "code",
   "execution_count": null,
   "metadata": {
    "colab": {
     "base_uri": "https://localhost:8080/"
    },
    "id": "r5ucnEyHeXEx",
    "outputId": "e7dfab2c-e322-40cb-8ba3-cb045a24fbf8"
   },
   "outputs": [],
   "source": [
    "bk.loc[209538]"
   ]
  },
  {
   "cell_type": "code",
   "execution_count": null,
   "metadata": {
    "colab": {
     "base_uri": "https://localhost:8080/"
    },
    "id": "A_9d7WrKeXOH",
    "outputId": "923dd289-149a-4f9e-fce2-62ac4cf50d6c"
   },
   "outputs": [],
   "source": [
    "bk.loc[220731]"
   ]
  },
  {
   "cell_type": "markdown",
   "metadata": {
    "id": "f48kQCMte7HV"
   },
   "source": [
    "Mismatch is fixed. now we can view perfect matching for their corresponding features."
   ]
  },
  {
   "cell_type": "code",
   "execution_count": null,
   "metadata": {
    "colab": {
     "base_uri": "https://localhost:8080/",
     "height": 53
    },
    "id": "5mXQy1BEeX2o",
    "outputId": "c4ea9467-630e-40dc-dd85-7498f70f968a"
   },
   "outputs": [],
   "source": [
    "bk.loc[(bk['Publisher'].isnull()),: ]"
   ]
  },
  {
   "cell_type": "code",
   "execution_count": null,
   "metadata": {
    "id": "UguPNAzVfmyw"
   },
   "outputs": [],
   "source": [
    "# replacing 'Nan' with 'Not Mentioned'\n",
    "bk.loc[(bk['ISBN'] == '193169656X'),'Publisher'] = 'Not Mentioned'\n",
    "bk.loc[(bk['ISBN'] == '1931696993'),'Publisher'] = 'Not Mentioned'"
   ]
  },
  {
   "cell_type": "code",
   "execution_count": null,
   "metadata": {
    "colab": {
     "base_uri": "https://localhost:8080/",
     "height": 53
    },
    "id": "RiN0-wRahDGT",
    "outputId": "7c338473-fa38-4aae-d5bb-750fb39ca7ff"
   },
   "outputs": [],
   "source": [
    "bk[bk['Publisher'] == 'Not Mentioned']"
   ]
  },
  {
   "cell_type": "markdown",
   "metadata": {
    "id": "DqBSVLNoh3op"
   },
   "source": [
    "So we have change the publisher's name from 'NaN' to 'Not Mentioned'."
   ]
  },
  {
   "cell_type": "markdown",
   "metadata": {
    "id": "I9scQejCwQwZ"
   },
   "source": [
    "# User dataset"
   ]
  },
  {
   "cell_type": "markdown",
   "metadata": {
    "id": "2J-LwHSrYO7w"
   },
   "source": [
    "Visualize the missing values from User dataset,Here age column is having maximum missing values"
   ]
  },
  {
   "cell_type": "code",
   "execution_count": null,
   "metadata": {
    "colab": {
     "base_uri": "https://localhost:8080/",
     "height": 801
    },
    "id": "klKLJ3pPvQCB",
    "outputId": "cda6733f-e478-418b-dd6b-c3f972e19bbf"
   },
   "outputs": [],
   "source": [
    "plt.rcParams['figure.figsize'] = (10,5)\n",
    "plt.rcParams['figure.dpi'] = 250\n",
    "\n",
    "sns.heatmap(user.isna(), cmap=['#3434eb','#3ffc19'])"
   ]
  },
  {
   "cell_type": "code",
   "execution_count": null,
   "metadata": {
    "colab": {
     "base_uri": "https://localhost:8080/"
    },
    "id": "rXxnrepPh8as",
    "outputId": "ef12acd6-068b-4ec6-c23a-ac5266793cd5"
   },
   "outputs": [],
   "source": [
    "# unique value in age column\n",
    "user['Age'].unique()"
   ]
  },
  {
   "cell_type": "markdown",
   "metadata": {
    "id": "lcHjmUA9jKs4"
   },
   "source": [
    "here we can see NaN values"
   ]
  },
  {
   "cell_type": "code",
   "execution_count": null,
   "metadata": {
    "id": "tyzYNye7i861"
   },
   "outputs": [],
   "source": [
    "# replacing nan with average of 'age'\n",
    "user['Age'].fillna((user['Age'].mean()), inplace=True)"
   ]
  },
  {
   "cell_type": "code",
   "execution_count": null,
   "metadata": {
    "colab": {
     "base_uri": "https://localhost:8080/"
    },
    "id": "3X4qlN8si8-m",
    "outputId": "44e7c15a-30a0-4deb-a777-f90b2366bb9a"
   },
   "outputs": [],
   "source": [
    "user['Age'].unique()"
   ]
  },
  {
   "cell_type": "markdown",
   "metadata": {
    "id": "ya4SHOcGk_F3"
   },
   "source": [
    "we fix null values for age column with average age."
   ]
  },
  {
   "cell_type": "code",
   "execution_count": null,
   "metadata": {
    "colab": {
     "base_uri": "https://localhost:8080/",
     "height": 758
    },
    "id": "30E99wK67tfD",
    "outputId": "d69cb480-e980-4995-b712-350e3ded8e0b"
   },
   "outputs": [],
   "source": [
    "sns.distplot(user['Age'].dropna()) # the distribution is positively skewed (tail to the right)"
   ]
  },
  {
   "cell_type": "code",
   "execution_count": null,
   "metadata": {
    "colab": {
     "base_uri": "https://localhost:8080/",
     "height": 618
    },
    "id": "PJQ1gn0v8mVr",
    "outputId": "da949ad0-b981-4372-ff0b-150763e425c5"
   },
   "outputs": [],
   "source": [
    "plt.figure(figsize=(20, 8))      # we can see maximum outliers in Age column\n",
    "\n",
    "plt.boxplot(user['Age'].dropna())  # Drop NaN values before plotting\n",
    "plt.xlabel('Age')\n",
    "plt.ylabel('Boxplot')\n",
    "plt.title('Boxplot of Age')\n",
    "plt.show()"
   ]
  },
  {
   "cell_type": "markdown",
   "metadata": {
    "id": "6Pcdh8R-lVN8"
   },
   "source": [
    "# Rating dataset"
   ]
  },
  {
   "cell_type": "code",
   "execution_count": null,
   "metadata": {
    "colab": {
     "base_uri": "https://localhost:8080/",
     "height": 206
    },
    "id": "6DJLshQVi9Cd",
    "outputId": "c0933c47-fde0-4a7f-bce2-d874fb7dea6d"
   },
   "outputs": [],
   "source": [
    "rt.head()        # ISBN column is same from rating and book dataset"
   ]
  },
  {
   "cell_type": "code",
   "execution_count": null,
   "metadata": {
    "colab": {
     "base_uri": "https://localhost:8080/",
     "height": 423
    },
    "id": "S4jryF49i9F9",
    "outputId": "b9c21430-fc0a-4d6f-df21-311d0849a702"
   },
   "outputs": [],
   "source": [
    "# finding unique ISBNs from rating and book dataset\n",
    "unique_ratings = rt[rt.ISBN.isin(bk.ISBN)]\n",
    "unique_ratings"
   ]
  },
  {
   "cell_type": "code",
   "execution_count": null,
   "metadata": {
    "colab": {
     "base_uri": "https://localhost:8080/"
    },
    "id": "IPX8F1CMi9JY",
    "outputId": "c8256dad-9677-49ec-fa1a-984e8cc73207"
   },
   "outputs": [],
   "source": [
    "print(rt.shape)\n",
    "print(unique_ratings.shape)"
   ]
  },
  {
   "cell_type": "code",
   "execution_count": null,
   "metadata": {
    "colab": {
     "base_uri": "https://localhost:8080/"
    },
    "id": "TalncoN1mQBo",
    "outputId": "1314e08e-85a1-4069-9efc-d22c75923f34"
   },
   "outputs": [],
   "source": [
    "# unique ratings from 'book_rating' feature\n",
    "unique_ratings['Book-Rating'].unique()"
   ]
  },
  {
   "cell_type": "markdown",
   "metadata": {
    "id": "ddKpT2KTmjAw"
   },
   "source": [
    "#Data Visualizations"
   ]
  },
  {
   "cell_type": "markdown",
   "metadata": {
    "id": "VfH6yDgKmwYd"
   },
   "source": [
    "Data visualization using book dataset"
   ]
  },
  {
   "cell_type": "code",
   "execution_count": null,
   "metadata": {
    "colab": {
     "base_uri": "https://localhost:8080/",
     "height": 752
    },
    "id": "TpEX1lm64Uvg",
    "outputId": "893aa08d-f933-4e24-9c78-d6c6a2682a5e"
   },
   "outputs": [],
   "source": [
    "# Replace non-numeric values with NaN\n",
    "bk['Year-Of-Publication'] = pd.to_numeric(bk['Year-Of-Publication'], errors='coerce')\n",
    "\n",
    "# Plot the distribution\n",
    "sns.distplot(bk['Year-Of-Publication'].dropna())  # Drop NaN values before plotting\n"
   ]
  },
  {
   "cell_type": "markdown",
   "metadata": {
    "id": "5g1CN1TvtVMg"
   },
   "source": [
    "Distribution of books ratings"
   ]
  },
  {
   "cell_type": "code",
   "execution_count": null,
   "metadata": {
    "colab": {
     "base_uri": "https://localhost:8080/",
     "height": 764
    },
    "id": "LbCvbmtozXUJ",
    "outputId": "fd570d7c-61c7-44f7-ee90-fb576f9428d1"
   },
   "outputs": [],
   "source": [
    "# Plot histogram of book ratings\n",
    "plt.hist(rt['Book-Rating'], bins=10)\n",
    "plt.xlabel('Rating')\n",
    "plt.ylabel('Count')\n",
    "plt.title('Distribution of Book Ratings')\n",
    "plt.show()"
   ]
  },
  {
   "cell_type": "code",
   "execution_count": null,
   "metadata": {
    "colab": {
     "base_uri": "https://localhost:8080/"
    },
    "id": "TWz27-7dVsCi",
    "outputId": "f78199df-08db-4d32-e841-8e2371f1929c"
   },
   "outputs": [],
   "source": [
    "unique_publishers = bk['Publisher'].unique()  # Get unique publisher values as a NumPy array\n",
    "count_unique_publishers = len(unique_publishers)  # Count the number of unique publishers\n",
    "\n",
    "print(\"Number of unique publishers:\", count_unique_publishers)\n"
   ]
  },
  {
   "cell_type": "markdown",
   "metadata": {
    "id": "B3csu7B4uMGt"
   },
   "source": [
    "Top 10 publishers with the most books"
   ]
  },
  {
   "cell_type": "code",
   "execution_count": null,
   "metadata": {
    "colab": {
     "base_uri": "https://localhost:8080/",
     "height": 1000
    },
    "id": "A3fJq5B4zXZZ",
    "outputId": "2fb6a90c-4bff-4741-ecdd-ffdd2a70fd6f"
   },
   "outputs": [],
   "source": [
    "top_publishers = bk['Publisher'].value_counts().head(10)\n",
    "\n",
    "# Create a bar chart\n",
    "plt.figure(figsize=(10, 6))\n",
    "top_publishers.plot(kind='bar')\n",
    "plt.title('Top 10 Publishers with the Most Books')\n",
    "plt.xlabel('Publisher')\n",
    "plt.ylabel('Number of Books')\n",
    "plt.xticks(rotation=45)\n",
    "plt.show()"
   ]
  },
  {
   "cell_type": "markdown",
   "metadata": {
    "id": "nc7oE3Gbu1hv"
   },
   "source": [
    "Top 10 Authors with the most books"
   ]
  },
  {
   "cell_type": "code",
   "execution_count": null,
   "metadata": {
    "colab": {
     "base_uri": "https://localhost:8080/"
    },
    "id": "z0E7wUnNW2c4",
    "outputId": "241674e1-44b5-4895-b2e0-54f0e3b15294"
   },
   "outputs": [],
   "source": [
    "unique_author = bk['Book-Author'].unique()  # Get unique author values as a NumPy array\n",
    "count_unique_author = len(unique_author)  # Count the number of unique author\n",
    "\n",
    "print(\"Number of unique Author:\", count_unique_author)"
   ]
  },
  {
   "cell_type": "code",
   "execution_count": null,
   "metadata": {
    "colab": {
     "base_uri": "https://localhost:8080/",
     "height": 714
    },
    "id": "VDz1sfBjx3XP",
    "outputId": "826dc756-7268-4647-8937-3db281ac8f97"
   },
   "outputs": [],
   "source": [
    "plt.figure(figsize=(12,6))\n",
    "sns.countplot(y=\"Book-Author\",palette = 'Paired', data=bk,order=bk['Book-Author'].value_counts().index[0:10])\n",
    "plt.title(\"Top 10 author with number of books\")"
   ]
  },
  {
   "cell_type": "code",
   "execution_count": null,
   "metadata": {
    "colab": {
     "base_uri": "https://localhost:8080/"
    },
    "id": "VA3VI_-UWLVJ",
    "outputId": "bd22c465-095a-410b-afa3-885b32311deb"
   },
   "outputs": [],
   "source": [
    "unique_books = bk['Book-Title'].unique()  # Get unique books values as a NumPy array\n",
    "count_unique_books = len(unique_books)  # Count the number of unique books\n",
    "\n",
    "print(\"Number of unique Books:\", count_unique_books)\n"
   ]
  },
  {
   "cell_type": "markdown",
   "metadata": {
    "id": "w7XKbivbvOhU"
   },
   "source": [
    "Top 10 years when most books got published"
   ]
  },
  {
   "cell_type": "code",
   "execution_count": null,
   "metadata": {
    "colab": {
     "base_uri": "https://localhost:8080/",
     "height": 849
    },
    "id": "2YXqHaG0zXhR",
    "outputId": "19cedd3f-99d5-4082-947d-cfc85bd269a1"
   },
   "outputs": [],
   "source": [
    "# Group the data by Year-Of-Publication and count the number of books in each year\n",
    "year_counts = bk['Year-Of-Publication'].value_counts().sort_values(ascending=False)\n",
    "\n",
    "\n",
    "# Top 10 years with the most books published\n",
    "top_10_years = year_counts.head(10)\n",
    "\n",
    "# Convert years to integers\n",
    "top_10_years.index = top_10_years.index.astype(int)\n",
    "\n",
    "# Create a bar chart\n",
    "plt.figure(figsize=(10, 6))\n",
    "top_10_years.plot(kind='bar')\n",
    "plt.title('Number of Books Published by Year')\n",
    "plt.xlabel('Year of Publication')\n",
    "plt.ylabel('Number of Books')\n",
    "\n",
    "plt.xticks(rotation=45)\n",
    "plt.tight_layout()\n",
    "\n",
    "plt.show()"
   ]
  },
  {
   "cell_type": "markdown",
   "metadata": {
    "id": "dwARnJ6_ysnW"
   },
   "source": [
    "Age distributions of users_data"
   ]
  },
  {
   "cell_type": "code",
   "execution_count": null,
   "metadata": {
    "colab": {
     "base_uri": "https://localhost:8080/",
     "height": 1000
    },
    "id": "nR-RU1x0vTu0",
    "outputId": "42969c49-8f31-47ac-c2d8-b171de9a808e"
   },
   "outputs": [],
   "source": [
    "plt.figure(figsize=(10,8))\n",
    "user.Age.hist(bins=[10*i for i in range(1, 10)], color = 'grey')\n",
    "plt.title('Age Distribution')\n",
    "plt.xlabel('Age')\n",
    "plt.ylabel('Count')\n",
    "plt.show()"
   ]
  },
  {
   "cell_type": "markdown",
   "metadata": {
    "id": "zbmcVt1dzQ_7"
   },
   "source": [
    "Top 10 books as per the number of ratings"
   ]
  },
  {
   "cell_type": "code",
   "execution_count": null,
   "metadata": {
    "colab": {
     "base_uri": "https://localhost:8080/",
     "height": 672
    },
    "id": "gany8GDKytt-",
    "outputId": "14f11bf8-a7cb-4f35-fe1d-9780a93178c6"
   },
   "outputs": [],
   "source": [
    "plt.figure(figsize=(12,6))\n",
    "sns.countplot(y=\"Book-Title\",palette = 'Paired',data= bk, order=bk['Book-Title'].value_counts().index[0:10])\n",
    "plt.title(\"Top 10 books as per number of ratings\")"
   ]
  },
  {
   "cell_type": "code",
   "execution_count": null,
   "metadata": {
    "colab": {
     "base_uri": "https://localhost:8080/",
     "height": 576
    },
    "id": "9HsZU9HUyty3",
    "outputId": "3b6680db-2e97-45db-e8f0-2b6e2b2d535f"
   },
   "outputs": [],
   "source": [
    "plt.figure(figsize=(2,2))\n",
    "sns.countplot(x=\"Book-Rating\",palette = 'Paired',data= unique_ratings)"
   ]
  },
  {
   "cell_type": "markdown",
   "metadata": {
    "id": "nf6RoMGMT_HN"
   },
   "source": [
    "#Model:  Popularity Based Recommender System"
   ]
  },
  {
   "cell_type": "code",
   "execution_count": null,
   "metadata": {
    "id": "YiyPXfM_TEIz"
   },
   "outputs": [],
   "source": [
    "ratings_with_name = rt.merge(bk,on='ISBN')"
   ]
  },
  {
   "cell_type": "code",
   "execution_count": null,
   "metadata": {
    "colab": {
     "base_uri": "https://localhost:8080/",
     "height": 423
    },
    "id": "Nj0SpKuoTEXi",
    "outputId": "852f2d85-0424-4372-f5fa-da6468a3739c"
   },
   "outputs": [],
   "source": [
    "num_rating_df = ratings_with_name.groupby('Book-Title').count()['Book-Rating'].reset_index()\n",
    "num_rating_df.rename(columns={'Book-Rating':'num_ratings'},inplace=True)\n",
    "num_rating_df"
   ]
  },
  {
   "cell_type": "code",
   "execution_count": null,
   "metadata": {
    "colab": {
     "base_uri": "https://localhost:8080/",
     "height": 423
    },
    "id": "Y1Xd8ODxULYb",
    "outputId": "a9f7fd58-ec0c-479e-f396-85c372024a6e"
   },
   "outputs": [],
   "source": [
    "avg_rating_df = ratings_with_name.groupby('Book-Title').mean()['Book-Rating'].reset_index()\n",
    "avg_rating_df.rename(columns={'Book-Rating':'avg_rating'},inplace=True)\n",
    "avg_rating_df"
   ]
  },
  {
   "cell_type": "code",
   "execution_count": null,
   "metadata": {
    "colab": {
     "base_uri": "https://localhost:8080/",
     "height": 423
    },
    "id": "eAYX2ImiULc3",
    "outputId": "9efd0fd3-8a65-427b-c13f-1d4f671378fa"
   },
   "outputs": [],
   "source": [
    "popular_df = num_rating_df.merge(avg_rating_df,on='Book-Title')\n",
    "popular_df"
   ]
  },
  {
   "cell_type": "markdown",
   "metadata": {
    "id": "HQqDE4jHZLF0"
   },
   "source": [
    "# top 50 most popular books"
   ]
  },
  {
   "cell_type": "code",
   "execution_count": null,
   "metadata": {
    "id": "kDCi4WvgULhN"
   },
   "outputs": [],
   "source": [
    "popular_df = popular_df[popular_df['num_ratings']>=250].sort_values('avg_rating',ascending=False).head(50)"
   ]
  },
  {
   "cell_type": "code",
   "execution_count": null,
   "metadata": {
    "id": "d6I-93V9ULlA"
   },
   "outputs": [],
   "source": [
    "popular_df = popular_df.merge(bk,on='Book-Title').drop_duplicates('Book-Title')[['Book-Title','Book-Author','Image-URL-M','num_ratings','avg_rating']]"
   ]
  },
  {
   "cell_type": "code",
   "execution_count": null,
   "metadata": {
    "colab": {
     "base_uri": "https://localhost:8080/",
     "height": 1000
    },
    "id": "GjxyOOrVWZGE",
    "outputId": "d6c0b859-6106-44ec-e46e-d5c751bf16a5"
   },
   "outputs": [],
   "source": [
    "popular_df"
   ]
  },
  {
   "cell_type": "code",
   "execution_count": null,
   "metadata": {
    "colab": {
     "base_uri": "https://localhost:8080/",
     "height": 36
    },
    "id": "UJCPFoAiULoo",
    "outputId": "677072d9-bf46-4dc7-e0b1-959dbd46dc5d"
   },
   "outputs": [],
   "source": [
    "popular_df['Image-URL-M'][0]"
   ]
  },
  {
   "cell_type": "code",
   "execution_count": null,
   "metadata": {
    "id": "4PG0-g3jkxit"
   },
   "outputs": [],
   "source": []
  },
  {
   "cell_type": "markdown",
   "metadata": {
    "id": "1pYSKAGzUccg"
   },
   "source": [
    "# Model: Collaborative Filtering Based Recommender System"
   ]
  },
  {
   "cell_type": "code",
   "execution_count": null,
   "metadata": {
    "id": "ZBIoBXCGULsO"
   },
   "outputs": [],
   "source": [
    "x = ratings_with_name.groupby('User-ID').count()['Book-Rating'] > 200\n",
    "rating_by_users = x[x].index"
   ]
  },
  {
   "cell_type": "code",
   "execution_count": null,
   "metadata": {
    "id": "ZOd_xbyAULvu"
   },
   "outputs": [],
   "source": [
    "filtered_rating = ratings_with_name[ratings_with_name['User-ID'].isin(rating_by_users)]"
   ]
  },
  {
   "cell_type": "code",
   "execution_count": null,
   "metadata": {
    "id": "tVfx-SEjUiB3"
   },
   "outputs": [],
   "source": [
    "y = filtered_rating.groupby('Book-Title').count()['Book-Rating']>=50\n",
    "famous_books = y[y].index"
   ]
  },
  {
   "cell_type": "code",
   "execution_count": null,
   "metadata": {
    "id": "njDPn-gqUiIn"
   },
   "outputs": [],
   "source": [
    "final_ratings = filtered_rating[filtered_rating['Book-Title'].isin(famous_books)]"
   ]
  },
  {
   "cell_type": "code",
   "execution_count": null,
   "metadata": {
    "id": "YPDDvFU2UiNM"
   },
   "outputs": [],
   "source": [
    "pt = final_ratings.pivot_table(index='Book-Title',columns='User-ID',values='Book-Rating')"
   ]
  },
  {
   "cell_type": "code",
   "execution_count": null,
   "metadata": {
    "id": "etFapjdXUiRN"
   },
   "outputs": [],
   "source": [
    "pt.fillna(0,inplace=True)"
   ]
  },
  {
   "cell_type": "code",
   "execution_count": null,
   "metadata": {
    "colab": {
     "base_uri": "https://localhost:8080/",
     "height": 472
    },
    "id": "7-KCBOdzUrk9",
    "outputId": "ab749472-4873-4db3-e33e-cbe7e6c9f0ac"
   },
   "outputs": [],
   "source": [
    "pt"
   ]
  },
  {
   "cell_type": "code",
   "execution_count": null,
   "metadata": {
    "id": "x5fuA3BKUrsu"
   },
   "outputs": [],
   "source": [
    "from sklearn.metrics.pairwise import cosine_similarity"
   ]
  },
  {
   "cell_type": "code",
   "execution_count": null,
   "metadata": {
    "id": "JsT_Z2tYUxdu"
   },
   "outputs": [],
   "source": [
    "similarity_scores = cosine_similarity(pt)"
   ]
  },
  {
   "cell_type": "code",
   "execution_count": null,
   "metadata": {
    "colab": {
     "base_uri": "https://localhost:8080/"
    },
    "id": "e-VXmB6_UxiZ",
    "outputId": "1d413479-188c-4c2a-bad6-1b7c365617d1"
   },
   "outputs": [],
   "source": [
    "similarity_scores   # find similarity with each book and each user"
   ]
  },
  {
   "cell_type": "code",
   "execution_count": null,
   "metadata": {
    "id": "Imew9YpEnw6E"
   },
   "outputs": [],
   "source": [
    "def recommend(book_name, pt, similarity_scores, bk):\n",
    "    try:\n",
    "        # Find the index of the given book_name\n",
    "        index = np.where(pt.index == book_name)[0][0]\n",
    "\n",
    "        # Sort and select similar items\n",
    "        similar_items = sorted(enumerate(similarity_scores[index]), key=lambda x: x[1], reverse=True)[1:5]\n",
    "\n",
    "        data = []\n",
    "        for i in similar_items:\n",
    "            item = []\n",
    "            temp_df = bk[bk['Book-Title'] == pt.index[i[0]]]\n",
    "            item.extend(list(temp_df.drop_duplicates('Book-Title')['Book-Title'].values))\n",
    "            item.extend(list(temp_df.drop_duplicates('Book-Title')['Book-Author'].values))\n",
    "            item.extend(list(temp_df.drop_duplicates('Book-Title')['Image-URL-M'].values))\n",
    "\n",
    "            data.append(item)\n",
    "\n",
    "        return data\n",
    "    except IndexError:\n",
    "        # Handle the case where the book_name is not found in pt.index\n",
    "        return \"Book not found in the database\"\n",
    "\n",
    "# Usage example:\n",
    "recommended_books = recommend(\"Book Name\", pt, similarity_scores, bk)\n"
   ]
  },
  {
   "cell_type": "code",
   "execution_count": null,
   "metadata": {
    "colab": {
     "base_uri": "https://localhost:8080/"
    },
    "id": "dKxQykRfXt4n",
    "outputId": "1d0bd5fa-90ac-4313-f070-e9ebc9dbaf6c"
   },
   "outputs": [],
   "source": [
    "similarity_scores.shape"
   ]
  },
  {
   "cell_type": "code",
   "execution_count": null,
   "metadata": {
    "colab": {
     "base_uri": "https://localhost:8080/"
    },
    "id": "ILqOj9DzUxqo",
    "outputId": "0a1fd2f3-57f5-423e-875f-66ebe4848150"
   },
   "outputs": [],
   "source": [
    "recommend(\"1984\", pt, similarity_scores, bk)"
   ]
  },
  {
   "cell_type": "code",
   "execution_count": null,
   "metadata": {
    "colab": {
     "base_uri": "https://localhost:8080/",
     "height": 36
    },
    "id": "oTFT_DauUxut",
    "outputId": "f50b7119-68cd-4675-f7d2-0c13c84fb232"
   },
   "outputs": [],
   "source": [
    "pt.index[0]"
   ]
  },
  {
   "cell_type": "code",
   "execution_count": null,
   "metadata": {
    "id": "rouZ3vJcU_jK"
   },
   "outputs": [],
   "source": []
  },
  {
   "cell_type": "code",
   "execution_count": null,
   "metadata": {
    "colab": {
     "base_uri": "https://localhost:8080/",
     "height": 998
    },
    "id": "CzZZWjbNU_m_",
    "outputId": "53d25ee9-0a59-4e0d-dcf9-ceb8b162a7c3"
   },
   "outputs": [],
   "source": [
    "bk.drop_duplicates('Book-Title')"
   ]
  },
  {
   "cell_type": "code",
   "execution_count": null,
   "metadata": {
    "id": "MS9tXvcHU_qw"
   },
   "outputs": [],
   "source": [
    "pickle.dump(pt,open('pt.pkl','wb'))\n",
    "pickle.dump(bk,open('bk.pkl','wb'))\n",
    "pickle.dump(similarity_scores,open('similarity_scores.pkl','wb'))"
   ]
  },
  {
   "cell_type": "code",
   "execution_count": null,
   "metadata": {
    "id": "R8P43Ee-75Tg"
   },
   "outputs": [],
   "source": []
  },
  {
   "cell_type": "markdown",
   "metadata": {
    "id": "kkyXEwZCgNFs"
   },
   "source": [
    "Simple Evaluation Using Existing Data for popularity recommendation evaluation"
   ]
  },
  {
   "cell_type": "code",
   "execution_count": null,
   "metadata": {
    "id": "v_WkHgevgPGz"
   },
   "outputs": [],
   "source": [
    "# Merge the datasets based on common columns\n",
    "merged_df = bk.merge(rt, on='ISBN', how='inner')\n",
    "merged_df = merged_df.merge(user, on='User-ID', how='inner')"
   ]
  },
  {
   "cell_type": "code",
   "execution_count": null,
   "metadata": {
    "id": "H2Lk8pzqgRF0"
   },
   "outputs": [],
   "source": [
    "#pip install scikit-surprise"
   ]
  },
  {
   "cell_type": "code",
   "execution_count": null,
   "metadata": {
    "colab": {
     "base_uri": "https://localhost:8080/"
    },
    "id": "-T2IiUvngRJT",
    "outputId": "56da1374-7729-4121-e87f-a0e32f451c13"
   },
   "outputs": [],
   "source": [
    "print(merged_df.head())"
   ]
  },
  {
   "cell_type": "code",
   "execution_count": null,
   "metadata": {
    "id": "O9Kjz3FXgRN-"
   },
   "outputs": [],
   "source": [
    "# Calculate popularity scores for each book (e.g., based on average ratings or number of ratings)\n",
    "popularity_scores = merged_df.groupby('User-ID')['Book-Rating'].mean().reset_index()\n",
    "popularity_scores.columns = ['User-ID', 'popularity_score']"
   ]
  },
  {
   "cell_type": "code",
   "execution_count": null,
   "metadata": {
    "id": "cLVjoXjHgRRi"
   },
   "outputs": [],
   "source": [
    "# Sort books by popularity score in descending order\n",
    "popularity_scores = popularity_scores.sort_values(by='popularity_score', ascending=False)"
   ]
  },
  {
   "cell_type": "code",
   "execution_count": null,
   "metadata": {
    "id": "QAufNKvFgRVa"
   },
   "outputs": [],
   "source": [
    "# Top-N recommendation evaluation using your entire dataset\n",
    "N = 10  # Number of top recommendations to evaluate"
   ]
  },
  {
   "cell_type": "code",
   "execution_count": null,
   "metadata": {
    "colab": {
     "base_uri": "https://localhost:8080/"
    },
    "id": "AjpBjSwdgiNb",
    "outputId": "3ebe89d7-5b18-465d-d8f3-a7b460b1a316"
   },
   "outputs": [],
   "source": [
    "# Calculate precision and recall for the top-N recommended books\n",
    "def evaluate_popular_filtering(top_recommendations, data):\n",
    "    relevant_books = set(data['User-ID'])\n",
    "    recommended_books = set(top_recommendations['User-ID'][:N])\n",
    "\n",
    "    # Calculate precision and recall\n",
    "    precision = len(recommended_books.intersection(relevant_books)) / N\n",
    "    recall = len(recommended_books.intersection(relevant_books)) / len(relevant_books)\n",
    "\n",
    "    return precision, recall\n",
    "\n",
    "precision, recall = evaluate_popular_filtering(popularity_scores, merged_df)\n",
    "print(f\"Precision: {precision}, Recall: {recall}\")"
   ]
  },
  {
   "cell_type": "markdown",
   "metadata": {
    "id": "BnO9a8IygnCj"
   },
   "source": [
    "Precision is 1.0, This suggests that the system is highly accurate in terms of relevance.\n",
    "\n",
    "A low recall value indicates that the system is not effective at finding all relevant books.\n",
    "A low recall value means it suggests that the popularity-based system is not able to recommend a large portion of the books that users in the test dataset might find relevant."
   ]
  },
  {
   "cell_type": "markdown",
   "metadata": {
    "id": "MO5K0aOSgrDT"
   },
   "source": [
    "# Collaborative Filtering evaluation Recommender System"
   ]
  },
  {
   "cell_type": "markdown",
   "metadata": {
    "id": "_y3KUCAogvGl"
   },
   "source": [
    "Collaborative Filtering: Collaborative filtering is a recommendation technique that relies on user-item interactions or user-item ratings to make recommendations. SVD is often used in collaborative filtering to reduce the dimensionality of the user-item interaction matrix. By applying SVD to this matrix, you can uncover latent factors that represent user preferences and item characteristics. These latent factors are then used to make recommendations by predicting how a user would rate or interact with items they haven't seen before."
   ]
  },
  {
   "cell_type": "code",
   "execution_count": null,
   "metadata": {
    "colab": {
     "base_uri": "https://localhost:8080/"
    },
    "id": "P34Fzy3Q-Jt-",
    "outputId": "a95ee163-e35f-40c6-ce19-17b624d93483"
   },
   "outputs": [],
   "source": [
    "pip install scikit-surprise"
   ]
  },
  {
   "cell_type": "code",
   "execution_count": null,
   "metadata": {
    "id": "HGx8KNn1giQy"
   },
   "outputs": [],
   "source": [
    "import pandas as pd\n",
    "from surprise import Dataset, Reader, accuracy\n",
    "from surprise.model_selection import train_test_split\n",
    "from surprise import SVD  # Example collaborative filtering algorithm"
   ]
  },
  {
   "cell_type": "code",
   "execution_count": null,
   "metadata": {
    "colab": {
     "base_uri": "https://localhost:8080/",
     "height": 219
    },
    "id": "9BGkyR8ngiUr",
    "outputId": "5df566ce-9e45-46d8-f144-e289fa5ce4bc"
   },
   "outputs": [],
   "source": [
    "merged_df.head(2)"
   ]
  },
  {
   "cell_type": "code",
   "execution_count": null,
   "metadata": {
    "id": "67694R7tg0k6"
   },
   "outputs": [],
   "source": [
    "columns_to_drop = ['Image-URL-M', 'Image-URL-L', 'Location', 'Age']\n",
    "merged_df = merged_df.drop(columns=columns_to_drop)"
   ]
  },
  {
   "cell_type": "code",
   "execution_count": null,
   "metadata": {
    "id": "Q5Vi3nqPg0pB"
   },
   "outputs": [],
   "source": [
    "# Create a Reader object specifying the rating scale\n",
    "reader = Reader(rating_scale=(1, 10))"
   ]
  },
  {
   "cell_type": "code",
   "execution_count": null,
   "metadata": {
    "id": "6do19RUVg0s5"
   },
   "outputs": [],
   "source": [
    "# Load the merged_df into Surprise format\n",
    "data = Dataset.load_from_df(merged_df[['User-ID', 'ISBN', 'Book-Rating']], reader)"
   ]
  },
  {
   "cell_type": "code",
   "execution_count": null,
   "metadata": {
    "id": "lNEq6miDg0wZ"
   },
   "outputs": [],
   "source": [
    "# Split the dataset into train and test sets\n",
    "trainset, testset = train_test_split(data, test_size=0.2, random_state=42)  # Use a fixed random_state for reproducibility"
   ]
  },
  {
   "cell_type": "code",
   "execution_count": null,
   "metadata": {
    "id": "wR7NxAN8g0zS"
   },
   "outputs": [],
   "source": [
    "# Build the full training set (convert DatasetAutoFolds to Dataset)\n",
    "trainset = data.build_full_trainset()"
   ]
  },
  {
   "cell_type": "code",
   "execution_count": null,
   "metadata": {
    "colab": {
     "base_uri": "https://localhost:8080/"
    },
    "id": "lVBn8Psng-3s",
    "outputId": "f2d7759c-53b7-4572-ab27-09b5f170c2b0"
   },
   "outputs": [],
   "source": [
    "# Train a collaborative filtering model (SVD in this case)\n",
    "model = SVD()\n",
    "model.fit(trainset)"
   ]
  },
  {
   "cell_type": "code",
   "execution_count": null,
   "metadata": {
    "id": "N3wXCv46g-8d"
   },
   "outputs": [],
   "source": [
    "# Make predictions on the test set\n",
    "predictions = model.test(testset)"
   ]
  },
  {
   "cell_type": "code",
   "execution_count": null,
   "metadata": {
    "colab": {
     "base_uri": "https://localhost:8080/"
    },
    "id": "WXWZMFpwg_Aa",
    "outputId": "5c8e8675-dd23-4051-d780-b5a73d556e8c"
   },
   "outputs": [],
   "source": [
    "# Calculate RMSE (Root Mean Square Error) as a measure of prediction accuracy\n",
    "rmse = accuracy.rmse(predictions)"
   ]
  },
  {
   "cell_type": "markdown",
   "metadata": {
    "id": "94gVP6w-hI6R"
   },
   "source": [
    "RMSE value says , on average, the predicted ratings are approximately 1.2000 units away from the actual ratings."
   ]
  },
  {
   "cell_type": "code",
   "execution_count": null,
   "metadata": {
    "colab": {
     "base_uri": "https://localhost:8080/"
    },
    "id": "68Ju_Bokg_EJ",
    "outputId": "f5caedcb-f397-4ed6-f482-541281010569"
   },
   "outputs": [],
   "source": [
    "# Calculate MAE (Mean Absolute Error) as another measure of accuracy\n",
    "mae = accuracy.mae(predictions)"
   ]
  },
  {
   "cell_type": "markdown",
   "metadata": {
    "id": "kCEul8XxhN54"
   },
   "source": [
    "MAE value says here on average, the predicted ratings differ from the actual ratings by approximately 1.0209 units."
   ]
  },
  {
   "cell_type": "code",
   "execution_count": null,
   "metadata": {
    "colab": {
     "base_uri": "https://localhost:8080/"
    },
    "id": "6nu2plPZhOWV",
    "outputId": "f74f422a-f358-447f-8a25-44cca1ce793f"
   },
   "outputs": [],
   "source": [
    "print(f\"RMSE: {rmse}, MAE: {mae}\")"
   ]
  },
  {
   "cell_type": "markdown",
   "metadata": {
    "id": "0sbRcI65hTLK"
   },
   "source": [
    "This code builds the full training set using the build_full_trainset method and then trains the collaborative filtering model using the full training set. After training, it makes predictions on the test set and calculates RMSE and MAE for evaluation."
   ]
  },
  {
   "cell_type": "code",
   "execution_count": null,
   "metadata": {
    "id": "zeBjolbG-POH"
   },
   "outputs": [],
   "source": [
    "pip freeze > requirements.txt"
   ]
  },
  {
   "cell_type": "code",
   "execution_count": null,
   "metadata": {},
   "outputs": [],
   "source": []
  },
  {
   "cell_type": "code",
   "execution_count": null,
   "metadata": {},
   "outputs": [],
   "source": [
    "\n",
    "\n",
    "# Save the 'popular_df' DataFrame to 'popular.pkl'\n",
    "with open('popular.pkl', 'wb') as popular_file:\n",
    "    pickle.dump(popular_df, popular_file)\n",
    "    \n",
    "with open('pt.pkl', 'wb') as pt_file:\n",
    "    pickle.dump(pt, pt_file) \n",
    "\n",
    "# Assuming 'model' is your trained collaborative filtering model\n",
    "# Save the model to a file\n",
    "with open('collaborative_model.pkl', 'wb') as model_file:\n",
    "    pickle.dump(model, model_file)\n",
    "\n",
    "# Save the 'bk' DataFrame to 'bk.pkl'\n",
    "with open('bk.pkl', 'wb') as bk_file:\n",
    "    pickle.dump(bk, bk_file)\n",
    "\n",
    "# Save the 'similarity_scores' array to 'similarity_scores.pkl'\n",
    "with open('similarity_scores.pkl', 'wb') as scores_file:\n",
    "    pickle.dump(similarity_scores, scores_file)"
   ]
  },
  {
   "cell_type": "code",
   "execution_count": null,
   "metadata": {},
   "outputs": [],
   "source": []
  },
  {
   "cell_type": "code",
   "execution_count": null,
   "metadata": {},
   "outputs": [],
   "source": []
  }
 ],
 "metadata": {
  "colab": {
   "provenance": []
  },
  "kernelspec": {
   "display_name": "Python 3 (ipykernel)",
   "language": "python",
   "name": "python3"
  },
  "language_info": {
   "codemirror_mode": {
    "name": "ipython",
    "version": 3
   },
   "file_extension": ".py",
   "mimetype": "text/x-python",
   "name": "python",
   "nbconvert_exporter": "python",
   "pygments_lexer": "ipython3",
   "version": "3.10.9"
  }
 },
 "nbformat": 4,
 "nbformat_minor": 1
}
